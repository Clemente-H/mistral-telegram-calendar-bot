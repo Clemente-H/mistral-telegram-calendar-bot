{
 "cells": [
  {
   "cell_type": "markdown",
   "metadata": {},
   "source": [
    "# Mistral Telegram Calendar Bot - Interactive Testing\n",
    "\n",
    "This notebook is for testing the individual components of the Mistral Telegram Calendar Bot interactively."
   ]
  },
  {
   "cell_type": "code",
   "execution_count": 1,
   "metadata": {},
   "outputs": [],
   "source": [
    "import sys\n",
    "import os\n",
    "import json\n",
    "from datetime import datetime\n",
    "from PIL import Image\n",
    "import io\n",
    "import base64\n",
    "from IPython.display import display, HTML, Image as IPImage\n",
    "\n",
    "# Add parent directory to sys.path so we can import our modules\n",
    "sys.path.append('..')"
   ]
  },
  {
   "cell_type": "markdown",
   "metadata": {},
   "source": [
    "## 1. Environment Setup\n",
    "\n",
    "First, let's load our environment variables and check that everything is set up correctly."
   ]
  },
  {
   "cell_type": "code",
   "execution_count": 2,
   "metadata": {},
   "outputs": [
    {
     "name": "stdout",
     "output_type": "stream",
     "text": [
      "Mistral API Key available: Yes\n",
      "Google Credentials file exists: No\n"
     ]
    }
   ],
   "source": [
    "# Let's make sure our environment variables are loaded\n",
    "from dotenv import load_dotenv\n",
    "load_dotenv(dotenv_path='../.env')\n",
    "\n",
    "from config import MISTRAL_API_KEY, GOOGLE_CREDENTIALS_FILE\n",
    "\n",
    "print(f\"Mistral API Key available: {'Yes' if MISTRAL_API_KEY else 'No'}\")\n",
    "print(f\"Google Credentials file exists: {'Yes' if os.path.exists(GOOGLE_CREDENTIALS_FILE) else 'No'}\")"
   ]
  },
  {
   "cell_type": "markdown",
   "metadata": {},
   "source": [
    "## 2. Testing Mistral Engine\n",
    "\n",
    "Let's test the Mistral engine for intent detection and event extraction."
   ]
  },
  {
   "cell_type": "code",
   "execution_count": 3,
   "metadata": {},
   "outputs": [],
   "source": [
    "import sys\n",
    "sys.path.append('../src')\n",
    "from mistral_engine import MistralEngine\n",
    "\n",
    "engine = MistralEngine()"
   ]
  },
  {
   "cell_type": "markdown",
   "metadata": {},
   "source": [
    "### 2.1 Test Intent Detection with Text Messages\n",
    "\n",
    "Let's try a few different messages and see what intents are detected."
   ]
  },
  {
   "cell_type": "code",
   "execution_count": 4,
   "metadata": {},
   "outputs": [
    {
     "name": "stdout",
     "output_type": "stream",
     "text": [
      "Message: \"Hello! How are you today?\"\n",
      "Detected intent: greet\n",
      "Confidence: 0.95\n",
      "Explanation: The user's message starts with 'Hello!' and asks 'How are you today?', which are typical greetings and inquiries about well-being.\n",
      "\n",
      "--------------------------------------------------\n",
      "\n"
     ]
    },
    {
     "name": "stderr",
     "output_type": "stream",
     "text": [
      "Error calling Mistral: API error occurred: Status 429\n",
      "{\"message\":\"Requests rate limit exceeded\"}\n"
     ]
    },
    {
     "name": "stdout",
     "output_type": "stream",
     "text": [
      "Message: \"What can you do for me?\"\n",
      "Detected intent: other\n",
      "Confidence: 0.00\n",
      "Explanation: Could not detect intent\n",
      "\n",
      "--------------------------------------------------\n",
      "\n"
     ]
    },
    {
     "name": "stderr",
     "output_type": "stream",
     "text": [
      "Error calling Mistral: API error occurred: Status 429\n",
      "{\"message\":\"Requests rate limit exceeded\"}\n"
     ]
    },
    {
     "name": "stdout",
     "output_type": "stream",
     "text": [
      "Message: \"Schedule a meeting with John tomorrow at 3pm\"\n",
      "Detected intent: other\n",
      "Confidence: 0.00\n",
      "Explanation: Could not detect intent\n",
      "\n",
      "--------------------------------------------------\n",
      "\n",
      "Message: \"Remind me to buy groceries on Saturday at 10am\"\n",
      "Detected intent: add_event\n",
      "Confidence: 0.95\n",
      "Explanation: The user is asking to be reminded of a task ('buy groceries') at a specific time ('Saturday at 10am'), which indicates they want to add an event to their calendar.\n",
      "\n",
      "Extracted Event Information:\n",
      "{\n",
      "  \"summary\": \"Buy groceries\",\n",
      "  \"location\": null,\n",
      "  \"description\": \"Reminder to buy groceries\",\n",
      "  \"start_time\": \"2025-03-22T10:00:00\",\n",
      "  \"end_time\": null,\n",
      "  \"confidence\": 0.9\n",
      "}\n",
      "\n",
      "--------------------------------------------------\n",
      "\n",
      "Message: \"Add a dentist appointment for next Tuesday at 2:30pm at Smile Dental Clinic\"\n",
      "Detected intent: add_event\n",
      "Confidence: 0.95\n",
      "Explanation: The user is specifying a particular event (dentist appointment) with a date (next Tuesday), time (2:30pm), and location (Smile Dental Clinic), which indicates they want to add an event to the calendar.\n",
      "\n",
      "Extracted Event Information:\n",
      "{\n",
      "  \"summary\": \"Dentist appointment\",\n",
      "  \"location\": \"Smile Dental Clinic\",\n",
      "  \"description\": \"Dentist appointment at Smile Dental Clinic\",\n",
      "  \"start_time\": \"2025-03-25T14:30:00\",\n",
      "  \"end_time\": null,\n",
      "  \"confidence\": 0.9\n",
      "}\n",
      "\n",
      "--------------------------------------------------\n",
      "\n"
     ]
    }
   ],
   "source": [
    "def test_intent(message):\n",
    "    \"\"\"Test intent detection for a message.\"\"\"\n",
    "    intent_data, extracted_info, _ = engine.process_message(message)\n",
    "    \n",
    "    print(f\"Message: \\\"{message}\\\"\")\n",
    "    print(f\"Detected intent: {intent_data.get('intent')}\")\n",
    "    print(f\"Confidence: {intent_data.get('confidence', 0):.2f}\")\n",
    "    print(f\"Explanation: {intent_data.get('explanation', '')}\")\n",
    "    \n",
    "    if intent_data.get('intent') == 'add_event':\n",
    "        print(\"\\nExtracted Event Information:\")\n",
    "        print(json.dumps(extracted_info, indent=2))\n",
    "    \n",
    "    print(\"\\n\" + \"-\"*50 + \"\\n\")\n",
    "\n",
    "# Test messages\n",
    "test_messages = [\n",
    "    \"Hello! How are you today?\",\n",
    "    \"What can you do for me?\",\n",
    "    \"Schedule a meeting with John tomorrow at 3pm\",\n",
    "    \"Remind me to buy groceries on Saturday at 10am\",\n",
    "    \"Add a dentist appointment for next Tuesday at 2:30pm at Smile Dental Clinic\"\n",
    "]\n",
    "\n",
    "for message in test_messages:\n",
    "    test_intent(message)"
   ]
  },
  {
   "cell_type": "markdown",
   "metadata": {},
   "source": [
    "### 2.2 Custom Message Test\n",
    "\n",
    "Try your own custom message:"
   ]
  },
  {
   "cell_type": "code",
   "execution_count": 5,
   "metadata": {},
   "outputs": [
    {
     "name": "stdout",
     "output_type": "stream",
     "text": [
      "Message: \"Remind me to pick up Tom after school on Friday at 3pm\"\n",
      "Detected intent: add_event\n",
      "Confidence: 0.95\n",
      "Explanation: The user is asking to be reminded of a specific task ('pick up Tom') at a particular time ('Friday at 3pm'). This indicates the intent to add an event to the calendar.\n",
      "\n",
      "Extracted Event Information:\n",
      "{\n",
      "  \"summary\": \"Pick up Tom after school\",\n",
      "  \"location\": null,\n",
      "  \"description\": \"Reminder to pick up Tom after school\",\n",
      "  \"start_time\": \"2025-03-21T15:00:00\",\n",
      "  \"end_time\": null,\n",
      "  \"confidence\": 0.9\n",
      "}\n",
      "\n",
      "--------------------------------------------------\n",
      "\n"
     ]
    }
   ],
   "source": [
    "custom_message = \"Remind me to pick up Tom after school on Friday at 3pm\"\n",
    "test_intent(custom_message)"
   ]
  },
  {
   "cell_type": "markdown",
   "metadata": {},
   "source": [
    "## 3. Testing Image Processing\n",
    "\n",
    "Now let's test the image processing capabilities. First, we need to load an image."
   ]
  },
  {
   "cell_type": "code",
   "execution_count": 6,
   "metadata": {},
   "outputs": [],
   "source": [
    "def process_image(image_path):\n",
    "    \"\"\"Process an image and extract event information.\"\"\"\n",
    "    # Display the image\n",
    "    display(IPImage(filename=image_path, width=400))\n",
    "    \n",
    "    # Read the image file\n",
    "    with open(image_path, 'rb') as f:\n",
    "        image_data = f.read()\n",
    "    \n",
    "    # Process the image with Mistral\n",
    "    intent_data, extracted_info, _ = engine.process_message(image_data, is_image=True)\n",
    "    \n",
    "    print(f\"Detected intent: {intent_data.get('intent')}\")\n",
    "    print(f\"Confidence: {intent_data.get('confidence', 0):.2f}\")\n",
    "    \n",
    "    print(\"\\nExtracted Information:\")\n",
    "    print(json.dumps(extracted_info, indent=2))\n",
    "    \n",
    "    return extracted_info"
   ]
  },
  {
   "cell_type": "code",
   "execution_count": 7,
   "metadata": {},
   "outputs": [
    {
     "data": {
      "image/png": "[encoded data removed]",
      "text/plain": [
       "<IPython.core.display.Image object>"
      ]
     },
     "metadata": {
      "image/png": {
       "width": 400
      }
     },
     "output_type": "display_data"
    },
    {
     "name": "stdout",
     "output_type": "stream",
     "text": [
      "Detected intent: add_event\n",
      "Confidence: 0.95\n",
      "\n",
      "Extracted Information:\n",
      "{\n",
      "  \"extracted_text\": \"FERIA DE LAS PULGAS PLAZA \\u00d1U\\u00d1OA S\\u00c1BADO 22 DE MARZO 2025 - 10:00 - 16:00 HRS \\u00a1TESOROS, ANTIG\\u00dcEDADES Y M\\u00c1S POR DESCUBRIR! ENTRADA LIBERADA\",\n",
      "  \"summary\": \"Feria de las Pulgas\",\n",
      "  \"location\": \"Plaza \\u00d1u\\u00f1oa\",\n",
      "  \"description\": \"Evento de feria de pulgas con tesoros, antig\\u00fcedades y m\\u00e1s por descubrir. Entrada liberada.\",\n",
      "  \"start_time\": \"2025-03-22T10:00:00\",\n",
      "  \"end_time\": \"2025-03-22T16:00:00\",\n",
      "  \"confidence\": 0.95\n",
      "}\n"
     ]
    }
   ],
   "source": [
    "# Replace with your image path\n",
    "image_path = \"../data/test_image.png\"\n",
    "\n",
    "# Check if the image exists\n",
    "if os.path.exists(image_path):\n",
    "    extracted_info = process_image(image_path)\n",
    "else:\n",
    "    print(f\"Image not found: {image_path}\")\n",
    "    print(\"Please add test images to the test_images folder\")"
   ]
  },
  {
   "cell_type": "markdown",
   "metadata": {},
   "source": [
    "## 4. Testing Calendar Link Generation\n",
    "\n",
    "Let's test generating Google Calendar links from event information."
   ]
  },
  {
   "cell_type": "code",
   "execution_count": 9,
   "metadata": {},
   "outputs": [],
   "source": [
    "import sys\n",
    "sys.path.append('../src')\n",
    "from calendar_events import generate_calendar_link\n",
    "\n",
    "def display_calendar_link(event_data):\n",
    "    \"\"\"Generate and display a calendar link for the given event data.\"\"\"\n",
    "    link = generate_calendar_link(event_data)\n",
    "    \n",
    "    print(\"Event Details:\")\n",
    "    print(f\"Title: {event_data.get('summary')}\")\n",
    "    print(f\"Start: {event_data.get('start_time')}\")\n",
    "    print(f\"End: {event_data.get('end_time')}\")\n",
    "    print(f\"Location: {event_data.get('location')}\")\n",
    "    \n",
    "    print(f\"\\nCalendar Link: {link}\")\n",
    "    \n",
    "    # Create a clickable HTML link\n",
    "    display(HTML(f'<a href=\"{link}\" target=\"_blank\">Add to Google Calendar</a>'))"
   ]
  },
  {
   "cell_type": "code",
   "execution_count": 10,
   "metadata": {},
   "outputs": [
    {
     "name": "stdout",
     "output_type": "stream",
     "text": [
      "Event Details:\n",
      "Title: Team Meeting\n",
      "Start: 2025-03-19T15:00:00\n",
      "End: 2025-03-19T16:00:00\n",
      "Location: Conference Room A\n",
      "\n",
      "Calendar Link: https://calendar.google.com/calendar/render?action=TEMPLATE&text=Team Meeting&details=Weekly team sync to discuss project progress&location=Conference Room A&dates=20250319T150000/20250319T160000\n"
     ]
    },
    {
     "data": {
      "text/html": [
       "<a href=\"https://calendar.google.com/calendar/render?action=TEMPLATE&text=Team Meeting&details=Weekly team sync to discuss project progress&location=Conference Room A&dates=20250319T150000/20250319T160000\" target=\"_blank\">Add to Google Calendar</a>"
      ],
      "text/plain": [
       "<IPython.core.display.HTML object>"
      ]
     },
     "metadata": {},
     "output_type": "display_data"
    }
   ],
   "source": [
    "# Create a sample event\n",
    "from datetime import datetime, timedelta\n",
    "\n",
    "# Create event for tomorrow at 3pm\n",
    "tomorrow = datetime.now() + timedelta(days=1)\n",
    "start_time = tomorrow.replace(hour=15, minute=0, second=0, microsecond=0)\n",
    "end_time = start_time + timedelta(hours=1)\n",
    "\n",
    "sample_event = {\n",
    "    'summary': 'Team Meeting',\n",
    "    'location': 'Conference Room A',\n",
    "    'description': 'Weekly team sync to discuss project progress',\n",
    "    'start_time': start_time.isoformat(),\n",
    "    'end_time': end_time.isoformat()\n",
    "}\n",
    "\n",
    "display_calendar_link(sample_event)"
   ]
  },
  {
   "cell_type": "markdown",
   "metadata": {},
   "source": [
    "### 4.1 Use the extracted event from image\n",
    "\n",
    "If we successfully extracted an event from an image above, let's generate a calendar link for it."
   ]
  },
  {
   "cell_type": "code",
   "execution_count": 11,
   "metadata": {},
   "outputs": [
    {
     "name": "stdout",
     "output_type": "stream",
     "text": [
      "Event Details:\n",
      "Title: Feria de las Pulgas\n",
      "Start: 2025-03-22T10:00:00\n",
      "End: 2025-03-22T16:00:00\n",
      "Location: Plaza Ñuñoa\n",
      "\n",
      "Calendar Link: https://calendar.google.com/calendar/render?action=TEMPLATE&text=Feria de las Pulgas&details=Evento de feria de pulgas con tesoros, antigüedades y más por descubrir. Entrada liberada.&location=Plaza Ñuñoa&dates=20250322T100000/20250322T160000\n"
     ]
    },
    {
     "data": {
      "text/html": [
       "<a href=\"https://calendar.google.com/calendar/render?action=TEMPLATE&text=Feria de las Pulgas&details=Evento de feria de pulgas con tesoros, antigüedades y más por descubrir. Entrada liberada.&location=Plaza Ñuñoa&dates=20250322T100000/20250322T160000\" target=\"_blank\">Add to Google Calendar</a>"
      ],
      "text/plain": [
       "<IPython.core.display.HTML object>"
      ]
     },
     "metadata": {},
     "output_type": "display_data"
    }
   ],
   "source": [
    "# Check if we have extracted event info from an image\n",
    "if 'extracted_info' in locals() and extracted_info.get('summary') and extracted_info.get('start_time'):\n",
    "    display_calendar_link(extracted_info)\n",
    "else:\n",
    "    print(\"No valid event information extracted from image.\")"
   ]
  },
  {
   "cell_type": "markdown",
   "metadata": {},
   "source": [
    "## 5. Full Flow Simulation\n",
    "\n",
    "Finally, let's simulate the full flow from receiving a user message to generating a calendar link."
   ]
  },
  {
   "cell_type": "code",
   "execution_count": 12,
   "metadata": {},
   "outputs": [],
   "source": [
    "def simulate_full_flow(message):\n",
    "    \"\"\"Simulate the full bot flow.\"\"\"\n",
    "    print(f\"User: {message}\")\n",
    "    \n",
    "    # Step 1: Process the message\n",
    "    intent_data, extracted_info, _ = engine.process_message(message)\n",
    "    \n",
    "    print(f\"\\nStep 1: Intent Detection\")\n",
    "    print(f\"Detected intent: {intent_data.get('intent')}\")\n",
    "    print(f\"Confidence: {intent_data.get('confidence', 0):.2f}\")\n",
    "    \n",
    "    # Step 2: Extract event information if intent is add_event\n",
    "    if intent_data.get('intent') == 'add_event':\n",
    "        print(f\"\\nStep 2: Event Extraction\")\n",
    "        print(\"Extracted information:\")\n",
    "        print(json.dumps(extracted_info, indent=2))\n",
    "        \n",
    "        # Step 3: Generate calendar link\n",
    "        if extracted_info.get('summary') and extracted_info.get('start_time'):\n",
    "            print(f\"\\nStep 3: Calendar Link Generation\")\n",
    "            link = generate_calendar_link(extracted_info)\n",
    "            print(f\"Calendar Link: {link}\")\n",
    "            \n",
    "            # Display a clickable link\n",
    "            display(HTML(f'<a href=\"{link}\" target=\"_blank\">Add to Google Calendar</a>'))\n",
    "            \n",
    "            # Step 4: Generate bot response\n",
    "            print(f\"\\nStep 4: Bot Response\")\n",
    "            print(f\"Bot: I've found the following event details:\\n\")\n",
    "            print(f\"📅 {extracted_info.get('summary')}\")\n",
    "            print(f\"📆 {extracted_info.get('start_time')}\")\n",
    "            if extracted_info.get('location'):\n",
    "                print(f\"📍 {extracted_info.get('location')}\")\n",
    "            if extracted_info.get('description'):\n",
    "                print(f\"📝 {extracted_info.get('description')}\")\n",
    "            print(f\"\\nYou can add this to your calendar using the link above.\")\n",
    "        else:\n",
    "            print(f\"\\nNot enough information to create a calendar event.\")\n",
    "            print(f\"Bot: I need more information about your event. Please provide at least a title and date/time.\")\n",
    "    else:\n",
    "        print(f\"\\nBot: {get_response_for_intent(intent_data.get('intent'))}\")\n",
    "\n",
    "def get_response_for_intent(intent):\n",
    "    \"\"\"Get a sample response based on the intent.\"\"\"\n",
    "    responses = {\n",
    "        'greet': \"Hello! How can I help you with your calendar today?\",\n",
    "        'help': \"I can help you add events to your calendar. Just tell me about the event, or send an image with event details.\",\n",
    "        'other': \"I'm not sure what you're asking for. Can you try asking me to add an event to your calendar?\"\n",
    "    }\n",
    "    return responses.get(intent, \"I didn't understand that. Can you try again?\")"
   ]
  },
  {
   "cell_type": "code",
   "execution_count": 14,
   "metadata": {},
   "outputs": [
    {
     "name": "stdout",
     "output_type": "stream",
     "text": [
      "User: Can you schedule a team meeting for next Monday at 10am in the main conference room? We'll be discussing the Q3 marketing strategy.\n",
      "\n",
      "Step 1: Intent Detection\n",
      "Detected intent: add_event\n",
      "Confidence: 0.95\n",
      "\n",
      "Step 2: Event Extraction\n",
      "Extracted information:\n",
      "{\n",
      "  \"summary\": \"Team Meeting\",\n",
      "  \"location\": \"main conference room\",\n",
      "  \"description\": \"Discussing the Q3 marketing strategy\",\n",
      "  \"start_time\": \"2025-03-24T10:00:00\",\n",
      "  \"end_time\": null,\n",
      "  \"confidence\": 0.9\n",
      "}\n",
      "\n",
      "Step 3: Calendar Link Generation\n",
      "Calendar Link: https://calendar.google.com/calendar/render?action=TEMPLATE&text=Team Meeting&details=Discussing the Q3 marketing strategy&location=main conference room&dates=20250324T100000/20250324T110000\n"
     ]
    },
    {
     "data": {
      "text/html": [
       "<a href=\"https://calendar.google.com/calendar/render?action=TEMPLATE&text=Team Meeting&details=Discussing the Q3 marketing strategy&location=main conference room&dates=20250324T100000/20250324T110000\" target=\"_blank\">Add to Google Calendar</a>"
      ],
      "text/plain": [
       "<IPython.core.display.HTML object>"
      ]
     },
     "metadata": {},
     "output_type": "display_data"
    },
    {
     "name": "stdout",
     "output_type": "stream",
     "text": [
      "\n",
      "Step 4: Bot Response\n",
      "Bot: I've found the following event details:\n",
      "\n",
      "📅 Team Meeting\n",
      "📆 2025-03-24T10:00:00\n",
      "📍 main conference room\n",
      "📝 Discussing the Q3 marketing strategy\n",
      "\n",
      "You can add this to your calendar using the link above.\n"
     ]
    }
   ],
   "source": [
    "# Test with a complex event description\n",
    "simulate_full_flow(\"Can you schedule a team meeting for next Monday at 10am in the main conference room? We'll be discussing the Q3 marketing strategy.\")"
   ]
  },
  {
   "cell_type": "code",
   "execution_count": 15,
   "metadata": {},
   "outputs": [
    {
     "name": "stdout",
     "output_type": "stream",
     "text": [
      "User: Hi there! How's it going?\n",
      "\n",
      "Step 1: Intent Detection\n",
      "Detected intent: greet\n",
      "Confidence: 0.95\n",
      "\n",
      "Bot: Hello! How can I help you with your calendar today?\n"
     ]
    }
   ],
   "source": [
    "# Try a greeting\n",
    "simulate_full_flow(\"Hi there! How's it going?\")"
   ]
  },
  {
   "cell_type": "markdown",
   "metadata": {},
   "source": [
    "## 6. Your Custom Tests\n",
    "\n",
    "Feel free to add your own custom tests below:"
   ]
  },
  {
   "cell_type": "code",
   "execution_count": null,
   "metadata": {},
   "outputs": [],
   "source": [
    "# Test with your own message\n",
    "your_message = \"\" # Add your test message here\n",
    "if your_message:\n",
    "    simulate_full_flow(your_message)"
   ]
  }
 ],
 "metadata": {
  "kernelspec": {
   "display_name": "mistral311",
   "language": "python",
   "name": "mistral-py311"
  },
  "language_info": {
   "codemirror_mode": {
    "name": "ipython",
    "version": 3
   },
   "file_extension": ".py",
   "mimetype": "text/x-python",
   "name": "python",
   "nbconvert_exporter": "python",
   "pygments_lexer": "ipython3",
   "version": "3.11.11"
  }
 },
 "nbformat": 4,
 "nbformat_minor": 4
}
